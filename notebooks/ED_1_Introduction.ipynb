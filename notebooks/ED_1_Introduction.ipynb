{
 "cells": [
  {
   "cell_type": "markdown",
   "metadata": {},
   "source": [
    "# Experiment Design Lecture 1: Overview of Experiment Design and Surrogate Models"
   ]
  },
  {
   "cell_type": "markdown",
   "metadata": {},
   "source": [
    "## The Problem Statement\n",
    "\n",
    "The purpose of experiment design is to study the effects of various inputs on the outputs of a system, and use the resulting data to construct a simplified statistical model of what is happening in the system to make predictions faster and to better control and optimize the system.\n",
    "\n",
    "For a given system, we start by selecting the inputs and outputs that we think are important, with input and feedback from experts with field experience.\n",
    "\n",
    "The real system is represented as a map from one set (inputs) to the other (outputs), the real function $f$:\n",
    "\n",
    "$$\n",
    "Y = f(X)\n",
    "$$\n",
    "\n",
    "where capital leters denote vector quantities $X$ and $Y$, and we are creating a surrogate model (sometimes called a metamodel, as it is a model of a model) called $g$:\n",
    "\n",
    "$$\n",
    "Y = g(X)\n",
    "$$\n",
    "\n",
    "The objective is to construct $g(X)$ and assess how good a job it does of representing the real function $f(X)$. \n",
    "\n",
    "The purpose of experiment design that we will discuss in these lecture notes is to create a cheap representation of an expensive computer model, but these techniques apply to the creation of any metamodel that is intended to represent the behavior of a more complex model."
   ]
  },
  {
   "cell_type": "markdown",
   "metadata": {},
   "source": [
    "## Classes of Surrogate Models\n",
    "\n",
    "There are several classes or forms for the metamodel $g$ to take, using different methods of gathering data about $f$:\n",
    "\n",
    "* Space filling designs\n",
    "* Uniform sampling\n",
    "* Nueral networks\n",
    "* Gaussian \n",
    "* Polynomials (repsonse surfaces)\n",
    "* General linear models\n",
    "\n",
    "These lecture notes will not cover all - only space-filling designs and resopnse surface methodologies."
   ]
  },
  {
   "cell_type": "markdown",
   "metadata": {},
   "source": [
    "# Surrogate Modeling"
   ]
  },
  {
   "cell_type": "markdown",
   "metadata": {},
   "source": [
    "## Basic Concepts for Experiments\n",
    "\n",
    "As we'll see, experiment design techniques and reduced order models are closely related to statistal tests and analysis of variance (ANOVA) tests."
   ]
  },
  {
   "cell_type": "markdown",
   "metadata": {},
   "source": [
    "## Basic Concepts for Metamodeling\n",
    "\n",
    "Metamodeling: regression on data without random error.\n",
    "\n",
    "We are trying to predict the true value of our real function $f(X)$ using a surrogate model $g(X)$.\n",
    "\n",
    "The most common measure of error in a metamodel is mean square error:\n",
    "\n",
    "$$\n",
    "\\mbox{MSE}(g) = \\int_{\\Omega} \\left( f(X) - g(X) \\right)^2 dX\n",
    "$$\n",
    "\n",
    "where $\\Omega$ is the domain of the problem (the entire region of input vector space $X$ where the surrogate model or metamodel should apply)."
   ]
  },
  {
   "cell_type": "markdown",
   "metadata": {},
   "source": [
    "### Example\n",
    "\n",
    "Let's look at an example of a real function and a polynomial metamodel. We'll start simple: the real function is\n",
    "\n",
    "$$\n",
    "f(x) = sin(x)\n",
    "$$\n",
    "\n",
    "and the surrogate model is\n",
    "\n",
    "$$\n",
    "g(x) = x - \\dfrac{1}{3!} x^3 + \\dfrac{1}{5!} x^5 - \\dfrac{1}{7!} x^7 + \\dfrac{1}{9!} x^9\n",
    "$$"
   ]
  },
  {
   "cell_type": "code",
   "execution_count": 1,
   "metadata": {},
   "outputs": [],
   "source": [
    "import numpy as np\n",
    "import matplotlib.pyplot as plt\n",
    "import seaborn as sns\n",
    "\n",
    "from pprint import pprint\n",
    "from scipy.special import factorial"
   ]
  },
  {
   "cell_type": "code",
   "execution_count": 2,
   "metadata": {},
   "outputs": [],
   "source": [
    "%matplotlib inline"
   ]
  },
  {
   "cell_type": "code",
   "execution_count": 3,
   "metadata": {},
   "outputs": [],
   "source": [
    "x_left = 0.0\n",
    "x_right = np.pi\n",
    "Npoints = 100\n",
    "\n",
    "x = np.linspace(x_left, x_right, Npoints)"
   ]
  },
  {
   "cell_type": "code",
   "execution_count": 4,
   "metadata": {},
   "outputs": [],
   "source": [
    "def f(x):\n",
    "    \"\"\"Returns \n",
    "    f(x) = sin( x )\n",
    "    \"\"\"\n",
    "    return np.sin(x)"
   ]
  },
  {
   "cell_type": "markdown",
   "metadata": {},
   "source": [
    "To get an approximate polynomial model for the function in the neighborhood of $[0,\\pi]$, we can use a Taylor series approximation about a point $x_0 = 0$:"
   ]
  },
  {
   "cell_type": "code",
   "execution_count": 5,
   "metadata": {},
   "outputs": [],
   "source": [
    "def g(x):\n",
    "    \"\"\"Returns a surrogate function for f(x),\n",
    "    using the classic Taylor approximation,\n",
    "    \n",
    "        sin(x) ~ x - 1/3! x^3 + 1/5! x^5 - 1/7! x^7 + ...\n",
    "    \"\"\"\n",
    "    # Perform Taylor series expansion about x = 0\n",
    "    x0 = 0\n",
    "    dx = x - x0\n",
    "    dim = np.shape(dx)[0]\n",
    "    result = np.zeros(dim,)\n",
    "    for i in range(dim):\n",
    "        dxi = dx[i]\n",
    "        val = dxi\n",
    "        val -= (1/factorial(3))*pow(dxi,3)\n",
    "        val += (1/factorial(5))*pow(dxi,5)\n",
    "        val -= (1/factorial(7))*pow(dxi,7)\n",
    "        val += (1/factorial(9))*pow(dxi,9)\n",
    "        result[i] = val\n",
    "        \n",
    "    return result"
   ]
  },
  {
   "cell_type": "code",
   "execution_count": 6,
   "metadata": {},
   "outputs": [
    {
     "data": {
      "image/png": "[encoded data removed]",
      "text/plain": [
       "<matplotlib.figure.Figure at 0x10f3344a8>"
      ]
     },
     "metadata": {},
     "output_type": "display_data"
    }
   ],
   "source": [
    "fig, ax = plt.subplots(1,1, figsize=(8,4))\n",
    "ax.plot(x,f(x),'-',  label='f(x) real')\n",
    "ax.plot(x,g(x),'--', label='g(x) surrogate')\n",
    "\n",
    "ax.set_title('Real and Surrogate Function')\n",
    "ax.set_xlim([min(x),max(x)])\n",
    "ax.legend()\n",
    "plt.show()"
   ]
  },
  {
   "cell_type": "code",
   "execution_count": 7,
   "metadata": {},
   "outputs": [],
   "source": [
    "def SE(x, r, s):\n",
    "    \"\"\"Evaluate the square error vector:\n",
    "        ( f(x) - g(x) )^2         \n",
    "    \"\"\"\n",
    "    se = (r-s)**2\n",
    "    return se\n",
    "\n",
    "def MSE(x, r, s):\n",
    "    \"\"\"Evaluate the numerical integral of the \n",
    "    mean squared error:\n",
    "    \n",
    "        \\int ( f(x) - g(x) )^2 dx\n",
    "        \n",
    "    f(x) = r = real\n",
    "    g(x) = s = surrogate\n",
    "    \"\"\"\n",
    "    se = SE(x, r, s)\n",
    "    mse = np.mean(se)\n",
    "    return mse"
   ]
  },
  {
   "cell_type": "code",
   "execution_count": 8,
   "metadata": {},
   "outputs": [
    {
     "data": {
      "image/png": "[encoded data removed]",
      "text/plain": [
       "<matplotlib.figure.Figure at 0x10f3a5d68>"
      ]
     },
     "metadata": {},
     "output_type": "display_data"
    }
   ],
   "source": [
    "fig, ax = plt.subplots(1,1, figsize=(8,4))\n",
    "ax.semilogy(x,SE(x,f(x),g(x)),'r-')\n",
    "\n",
    "ax.set_title('Mean Square Error')\n",
    "ax.set_xlim([min(x),max(x)])\n",
    "plt.show()"
   ]
  },
  {
   "cell_type": "code",
   "execution_count": 9,
   "metadata": {},
   "outputs": [
    {
     "name": "stdout",
     "output_type": "stream",
     "text": [
      "2.33340411846e-06\n"
     ]
    }
   ],
   "source": [
    "print(MSE(x, f(x), g(x)))"
   ]
  },
  {
   "cell_type": "markdown",
   "metadata": {},
   "source": [
    "## Latin Hypercube\n",
    "\n",
    "One of the strategies for constructing a surrogate model $g(X)$ to represent a real function $f(X)$ is to pick points in $X$ space that will effectively cover the entire input parameter space $\\Omega$.\n",
    "\n",
    "Due to something called the **curse of dimensionality**, the amount of input space that must be covered grows geometrically with the number of input parameters, so that it quickly becomes impossible to efficiently sample the input paramter space $X$.\n",
    "\n",
    "However, for two-dimensional or low-dimensional systems, random sampling of the input space using Latin hypercube can be effective. \n",
    "\n",
    "Latin hypercube sampling selects a set of input samples that fulfill a constraint: namely, that when they are projected onto each input dimension, the sample points are evenly distributed.\n",
    "\n",
    "To illustrate in two dimensions: suppose we have a system with two input variables ranging from 0 to 1, and we want to understand the effect they have on the response of the system. Further suppose that we're willing to run 15 experiments, and no more."
   ]
  },
  {
   "cell_type": "code",
   "execution_count": 10,
   "metadata": {},
   "outputs": [],
   "source": [
    "Ne = 15\n",
    "xlo = 0\n",
    "xhi = 1\n",
    "\n",
    "x1 = np.linspace(xlo, xhi, Ne)\n",
    "x2 = x1.copy()"
   ]
  },
  {
   "cell_type": "markdown",
   "metadata": {},
   "source": [
    "We will pre-select our 15 values of x1, and our 15 values of x2, and then randomly pair them up using a Knuth shuffle."
   ]
  },
  {
   "cell_type": "code",
   "execution_count": 11,
   "metadata": {},
   "outputs": [],
   "source": [
    "from copy import copy\n",
    "\n",
    "def knuth_shuffle(x):\n",
    "    n = len(x)\n",
    "    for i in reversed(range(n)):\n",
    "        if i==0:\n",
    "            break\n",
    "        \n",
    "        # random index includes i (no shuffle)P\n",
    "        randix = np.random.randint(0,i+1)\n",
    "        \n",
    "        temp = x[randix]\n",
    "        x[randix] = x[i]\n",
    "        x[i] = temp\n",
    "        \n",
    "    return x"
   ]
  },
  {
   "cell_type": "code",
   "execution_count": 12,
   "metadata": {},
   "outputs": [
    {
     "name": "stdout",
     "output_type": "stream",
     "text": [
      "[8, 4, 10, 2, 6]\n",
      "[4, 10, 2, 6, 8]\n",
      "[4, 10, 6, 8, 2]\n",
      "[10, 2, 6, 4, 8]\n",
      "[10, 4, 2, 6, 8]\n",
      "[8, 6, 10, 2, 4]\n",
      "[2, 6, 10, 8, 4]\n",
      "[4, 10, 6, 8, 2]\n",
      "[8, 10, 2, 6, 4]\n",
      "[10, 8, 2, 4, 6]\n"
     ]
    }
   ],
   "source": [
    "for i in range(10):\n",
    "    print(knuth_shuffle([2,4,6,8,10]))"
   ]
  },
  {
   "cell_type": "code",
   "execution_count": 13,
   "metadata": {},
   "outputs": [
    {
     "name": "stdout",
     "output_type": "stream",
     "text": [
      "[(0.0, 0.0),\n",
      " (0.071428571428571425, 0.071428571428571425),\n",
      " (0.14285714285714285, 0.14285714285714285),\n",
      " (0.21428571428571427, 0.21428571428571427),\n",
      " (0.2857142857142857, 0.2857142857142857),\n",
      " (0.3571428571428571, 0.3571428571428571),\n",
      " (0.42857142857142855, 0.42857142857142855),\n",
      " (0.5, 0.5),\n",
      " (0.5714285714285714, 0.5714285714285714),\n",
      " (0.64285714285714279, 0.64285714285714279),\n",
      " (0.71428571428571419, 0.71428571428571419),\n",
      " (0.7857142857142857, 0.7857142857142857),\n",
      " (0.8571428571428571, 0.8571428571428571),\n",
      " (0.92857142857142849, 0.92857142857142849),\n",
      " (1.0, 1.0)]\n"
     ]
    }
   ],
   "source": [
    "pprint(list((x1_, x2_) for (x1_, x2_) in zip(x1, x2)))"
   ]
  },
  {
   "cell_type": "code",
   "execution_count": 14,
   "metadata": {
    "scrolled": false
   },
   "outputs": [
    {
     "data": {
      "image/png": "[encoded data removed]",
      "text/plain": [
       "<matplotlib.figure.Figure at 0x10f556550>"
      ]
     },
     "metadata": {},
     "output_type": "display_data"
    }
   ],
   "source": [
    "fig = plt.figure(figsize=(10,6))\n",
    "\n",
    "axs = [fig.add_subplot(2,2,i+1) for i in range(4)]\n",
    "\n",
    "axs = np.ravel(axs)\n",
    "\n",
    "for i, ax in enumerate(axs):\n",
    "    \n",
    "    x1s = knuth_shuffle(x1)\n",
    "    x2s = knuth_shuffle(x2)\n",
    "    pairs = [(c1, c2) for (c1,c2) in zip(x1s,x2s)]\n",
    "\n",
    "    ax.plot(pairs, 'o', color='black')\n",
    "\n",
    "    ax.set_xlabel(r'$x_1$')\n",
    "    ax.set_ylabel(r'$x_2$')\n",
    "    ax.set_title(r'Latin Hypercube Sample %d'%(i+1))\n",
    "\n",
    "plt.tight_layout()\n",
    "plt.show()"
   ]
  },
  {
   "cell_type": "markdown",
   "metadata": {},
   "source": [
    "For a domain divided into $N$ bins (15 in the example above), there are exactly 15 samples taken, and each bin has an equal marginal probability of being sampled by a particular sample of $\\frac{1}{N}$."
   ]
  },
  {
   "cell_type": "markdown",
   "metadata": {},
   "source": [
    "### Algorithm\n",
    "\n",
    "The purpose of this algorithm is to create an experimental design with $N$ samples to be taken from the real function $f(X)$ for an input vector dimensionality of $p$.\n",
    "\n",
    "The result should be a Latin hypercube design that is an $n \\times p$ matrix denoting the variable combinations at which to sample.\n",
    "\n",
    "**Step 1:** Take $p$ independent permutations of $n$ integers $\\pi_j(1) \\dots \\pi_j(n)$ (note that $j$ indexes the dimension of the Latin hypercube $j = 1 \\dots p$, and $n$ is the number of samples.\n",
    "\n",
    "**Step 2:** Take $ns$ random numbers $U_{k}^{j}$ and compute the locations of the Latin hypercube samples as:\n",
    "\n",
    "$$\n",
    "x_{k}^{j} = \\dfrac{ \\pi_j(k) - U_{k}^{j} }{n}\n",
    "$$\n",
    "\n",
    "where $k = 1 \\dots n$ and $j = 1 \\dots p$."
   ]
  },
  {
   "cell_type": "markdown",
   "metadata": {},
   "source": [
    "### Variation\n",
    "\n",
    "One variation on this idea is *centered* Latin hypercube sampling.\n",
    "\n",
    "Each sample location is given by:\n",
    "\n",
    "$$\n",
    "x_{k}^{j} = \\dfrac{ \\pi_j(k) - 0.5 }{n}\n",
    "$$\n",
    "\n",
    "where $k = 1 \\dots n$ indexes which experiment, or sample. Note that this technique does not require random numbers."
   ]
  },
  {
   "cell_type": "markdown",
   "metadata": {},
   "source": [
    "### Latin Hypercube Sampling in Matlab\n",
    "\n",
    "In Matlab, the statistical toolbox has a function called `lhsdesign(n,p)` that performs a Latin hypercube sampling design for $n$ samples and $p$ variables."
   ]
  },
  {
   "cell_type": "markdown",
   "metadata": {},
   "source": [
    "### Latin Hypercube Sampling in Python\n",
    "\n",
    "We can assemble the code above to create a basic `lhsdesign(n,p)` function that assumes that each variable is normalized (distributed between 0 and 1):"
   ]
  },
  {
   "cell_type": "code",
   "execution_count": 15,
   "metadata": {},
   "outputs": [],
   "source": [
    "def lhsdesign(n,p):\n",
    "    lo = 0\n",
    "    hi = 1\n",
    "    result = np.zeros((n,p))\n",
    "    for i in range(p):\n",
    "        seq = np.linspace(lo, hi,n)\n",
    "        seq_shuff = knuth_shuffle(seq)\n",
    "        result[:,i] = seq_shuff\n",
    "    return result"
   ]
  },
  {
   "cell_type": "markdown",
   "metadata": {},
   "source": [
    "The basic method, then, to construct a Latin hypercube sampling procedure with $n$ samples of $p$ dimensions is to construct and return an $n \\times p$ matrix of numbers.\n",
    "\n",
    "The result is a sequence of values for each of the independent variables $x_i, i=1 \\dots 5$. If we plot projections of the samples into various subspaces, we can confirm the samples are randomly distributed. One red sample is highlighted across all plots for illustrative purposes."
   ]
  },
  {
   "cell_type": "code",
   "execution_count": 16,
   "metadata": {},
   "outputs": [
    {
     "data": {
      "image/png": "[encoded data removed]",
      "text/plain": [
       "<matplotlib.figure.Figure at 0x10f5525f8>"
      ]
     },
     "metadata": {},
     "output_type": "display_data"
    }
   ],
   "source": [
    "# 5-dimensional latin hypercube with 20 points\n",
    "lh = lhsdesign(20,5)\n",
    "\n",
    "fig = plt.figure(figsize=(8,8))\n",
    "ax1, ax2, ax3, ax4 = [fig.add_subplot(2,2,i+1) for i in range(4)]\n",
    "\n",
    "ax1.plot(lh[:,0],lh[:,1],'ko')\n",
    "ax1.plot(lh[1,0],lh[1,1],'ro')\n",
    "ax1.set_title(\"Latin Hypercube Design: x1 vs. x2\")\n",
    "\n",
    "ax2.plot(lh[:,1],lh[:,2],'ko')\n",
    "ax2.plot(lh[1,1],lh[1,2],'ro')\n",
    "ax2.set_title(\"Latin Hypercube Design: x2 vs. x3\")\n",
    "\n",
    "ax3.plot(lh[:,2],lh[:,3],'ko')\n",
    "ax3.plot(lh[1,2],lh[1,3],'ro')\n",
    "ax3.set_title(\"Latin Hypercube Design: x3 vs. x4\")\n",
    "\n",
    "ax4.plot(lh[:,3],lh[:,4],'ko')\n",
    "ax4.plot(lh[1,3],lh[1,4],'ro')\n",
    "ax4.set_title(\"Latin Hypercube Design: x4 vs. x5\")\n",
    "\n",
    "plt.tight_layout()\n",
    "plt.show()"
   ]
  },
  {
   "cell_type": "markdown",
   "metadata": {},
   "source": [
    "### Discussion Question\n",
    "\n",
    "Consider the same `lhsdesign` function defined above, but with the Knuth shuffle removed:"
   ]
  },
  {
   "cell_type": "code",
   "execution_count": 17,
   "metadata": {},
   "outputs": [],
   "source": [
    "def bad_lhsdesign(n,p):\n",
    "    lo = 0\n",
    "    hi = 1\n",
    "    result = np.zeros((n,p))\n",
    "    for i in range(p):\n",
    "        seq = np.linspace(lo, hi,n)\n",
    "        #seq_shuff = knuth_shuffle(seq)\n",
    "        result[:,i] = seq\n",
    "    return result"
   ]
  },
  {
   "cell_type": "markdown",
   "metadata": {},
   "source": [
    "This results in a non-random hypercube design, as shown below:"
   ]
  },
  {
   "cell_type": "code",
   "execution_count": 18,
   "metadata": {},
   "outputs": [
    {
     "data": {
      "image/png": "[encoded data removed]",
      "text/plain": [
       "<matplotlib.figure.Figure at 0x10f551e10>"
      ]
     },
     "metadata": {},
     "output_type": "display_data"
    }
   ],
   "source": [
    "# 5-dimensional latin hypercube with 20 points\n",
    "lh_g = lhsdesign(20,2)\n",
    "lh_b = bad_lhsdesign(20,2)\n",
    "\n",
    "fig = plt.figure(figsize=(8,3))\n",
    "ax1, ax2 = [fig.add_subplot(1,2,i+1) for i in range(2)]\n",
    "\n",
    "ax1.plot(lh_g[:,0],lh_g[:,1],'o')\n",
    "ax2.plot(lh_b[:,0],lh_b[:,1],'o')\n",
    "\n",
    "ax1.set_title(\"Random Latin Hypercube Design\")\n",
    "ax2.set_title(\"Non-Random Hypercube Design\")\n",
    "\n",
    "plt.show()"
   ]
  },
  {
   "cell_type": "markdown",
   "metadata": {},
   "source": [
    "**Question for discussion:** why might the LHS sample on the left be better than the more predictable sampling on the right?\n",
    "\n",
    "**Activity:** After discussing why the design on the left would be better than the design on the right, pick a physical system and come up with an example of an effect that would be missed by the design on the left."
   ]
  },
  {
   "cell_type": "markdown",
   "metadata": {},
   "source": [
    "## Monte Carlo Sampling\n",
    "\n",
    "<img src=\"https://charlesreid1.com/w/images/d/dd/Roulette.jpg\" alt=\"Roulette wheel\" width=\"300px\">\n",
    "\n",
    "**Roulette illustrates the random nature of the samples that are chosen in a Monte Carlo method. Good random number generators (for example, a roulette wheel) are not particularly fast; Monte Carlo techniques require thinking about this tradeoff.**\n",
    "\n",
    "Monte Carlo sampling is essentially a brute-force technique in which random samples are taken until confidence that the entire space has been sampled is satisfactory.\n",
    "\n",
    "Random numbers are used to create sampling points in each direction.\n",
    "\n",
    "Think of Monte Carlo ray-tracing: you send out a whole bunch of rays, each in random directions, and from the result you determine the radiative flux. Mathematically, you're performing an integration by randomly sampling the function you want to integrate, then adding up all of the random samples: \n",
    "\n",
    "$$\n",
    "\\int f(x) dx \\approx \\dfrac{1}{N} \\sum_{i} f(x_i)\n",
    "$$"
   ]
  },
  {
   "cell_type": "markdown",
   "metadata": {},
   "source": [
    "### Discussion Question\n",
    "\n",
    "**Discussion Question:** Monte Carlo and Latin hypercube are both random sampling methods. How are they different? Why would we use Monte Carlo sampling instead of Latin hypercube sampling?"
   ]
  },
  {
   "cell_type": "markdown",
   "metadata": {},
   "source": [
    "## Response Surfaces\n",
    "\n",
    "See below."
   ]
  },
  {
   "cell_type": "markdown",
   "metadata": {},
   "source": [
    "# Response Surface Methodology\n",
    "\n",
    "The response surface methodology (RSM) for experimental design and surrogate model construction utilizes low-order polynomials to approximate the response surface. \n",
    "\n",
    "The idea of using polynomials is motivated by the observation that in complex systems, integrated system response quantities (e.g., a time-integrated flux through an area) are often smooth with respect to the input parameters.\n",
    "\n",
    "For a function $f(X)$, the response surface is the parameter-space plot of the output fnction $f$ as a function of the input paramter vector $X$. \n",
    "\n",
    "(Example response surface of output product yield as function of mixing length and rate constant)\n",
    "\n",
    "The response surface methodology prescribes ways to sample the output function $f(X)$ in order to produce the best polynomial representation $g(X)$ possible."
   ]
  },
  {
   "cell_type": "markdown",
   "metadata": {},
   "source": [
    "## Terminology\n",
    "\n",
    "A **factor** refers to a particular input variable $x_i$.\n",
    "\n",
    "A **level** is a discrete value that a parameter $x_i$ can take on. If $x_i$ is continuous, these are the variable set-points that are used for the experiment.\n",
    "\n",
    "For example: if I want to investigate the effect of the mixing length $L_{mix}$ on the output product concentration $y_P$, I have to decide on discrete values of $L_{mix}$ to try.\n",
    "\n",
    "If I choose the three values of $0.1$, $1.0$, and $10.0$, then $L_{mix}$ has three levels $0.1,1.0,10.0$."
   ]
  },
  {
   "cell_type": "markdown",
   "metadata": {},
   "source": [
    "## Factorial Design\n",
    "\n",
    "Factorial designs are experimental designs for model functions $g(X)$ that are linear functions of input parameters. That is, they assume a linear model (given a $p$-dimensional input parameter vector) of the form:\n",
    "\n",
    "$$\n",
    "Y(X) = a_0 + \\sum_{i=1}^{p} a_i x_i \n",
    "+ \\sum_{j=1}^{p} \\sum_{k=1}^{j} a_{jk} x_j x_k\n",
    "+ \\dots\n",
    "$$"
   ]
  },
  {
   "cell_type": "markdown",
   "metadata": {},
   "source": [
    "### One Factor At A Time (OFAAT)\n",
    "\n",
    "One factor at a time (OFAAT) testing ignores the interaction effects of each variable, assuming each is independent of others.\n",
    "\n",
    "The algorithm is as follows:\n",
    "\n",
    "Given: a set of $k$ factors $i = 1 \\dots k$.\n",
    "\n",
    "**Step 1:** Fix the levels of all but one factor $i = 2, 3, \\dots, k$ and determine the optimal level for the factor $i=1$\n",
    "\n",
    "**Step 2:** Use the optimal level for factor $i=1$. Fix the levels for all but one factor $i=3, 4, \\dots, k$ and determine the optimal level for factor $i=2$.\n",
    "\n",
    "**Step 3:** Use the optimal level for factor $i=1,2$. Fix levels for all but one factor $i = 4, 5, \\dots, k$, etc."
   ]
  },
  {
   "cell_type": "markdown",
   "metadata": {},
   "source": [
    "### Full Factorial Design\n",
    "\n",
    "The following discussion assumes the use of two factor levels. Using more than two factor levels can potentially make factorial experimental design complicated (more on this topic later).\n",
    "\n",
    "Full factorial algorithm is as follows:\n",
    "\n",
    "**Step 1:** Assign the value $+1$ or $-1$ to the upper and lower factor levels, respectively.\n",
    "\n",
    "**Step 2:** Crate a table of factor-level combinations. For example:\n",
    "\n",
    "| Enumeration | Factor 1 | Factor 2 |\n",
    "|-------------|----------|----------|\n",
    "| 1           | +1       | +1       |\n",
    "| 2           | +1       | -1       |\n",
    "| 3           | -1       | +1       |\n",
    "| 4           | -1       | -1       |\n",
    "\n",
    "**Step 3:** Generate a sequence of $N$ random numbers, where $N$ is the number of factor-level combinations.\n",
    "\n",
    "**Step 4:** Run each sequence in the determined order.\n",
    "\n",
    "The cost of a full factorial design with 2 levels for each of the $k$ factors is $2^k$ function samples."
   ]
  },
  {
   "cell_type": "markdown",
   "metadata": {},
   "source": [
    "### Fractional Factorial Design\n",
    "\n",
    "Fractional factorial designs reduce the number of experimental runs required to construct the polynomial, but they throw out some information about interaction effects. Typically, information about the highest-order effects is thrown out.\n",
    "\n",
    "The essential technique is to determine which experiments you do not want to run, and exclude those from Step 4 in the factorial design algorithm given above. And the essential technique for determining which experiments you do not want to run is to determine which combination of experiments will give information about higher-order interaction effects.\n",
    "\n",
    "To do this, an expanded version of the above table is required: one that includes factor interactions. To determine, for example, the factor interaction between factors 1 and 2, $I_{12}$, simply multiply the factor 1 and factor 2 values (for example, $+1 \\times +1$ or $-1 \\times +1$, etc.).\n",
    "\n",
    "Factor 1 = $I_1$\n",
    "\n",
    "Factor 2 = $I_2$\n",
    "\n",
    "Factor 3 = $I_3$\n",
    "\n",
    "Factor 1-Factor 2 Interaction = $I_{12}$\n",
    "\n",
    "Factor 2-Factor 3 Interaction = $I_{23}$\n",
    "\n",
    "Factor 1-Factor 3 Interaction = $I_{13}$\n",
    "\n",
    "Factor 1-2-3 Interaction = $I_{123}$\n",
    "\n",
    "| Enumeration | $I_1$ | $I_2$ | $I_3$ | $I_{12}$ | $I_{23}$ | $I_{13}$ | $I_{123}$ |\n",
    "|-------------|-----|-----|-----|--------|--------|--------|---------|\n",
    "| 1           | +1  | +1  | +1  | +1     | +1     | +1     | +1      |\n",
    "| 2           | +1  | +1  | -1  | +1     | -1     | -1     | -1      |\n",
    "| 3           | +1  | -1  | +1  | -1     | -1     | +1     | -1      |\n",
    "| 4           | +1  | -1  | -1  | -1     | +1     | -1     | +1      |\n",
    "| 5           | -1  | +1  | +1  | -1     | +1     | -1     | -1      |\n",
    "| 6           | -1  | +1  | -1  | -1     | -1     | +1     | +1      |\n",
    "| 7           | -1  | -1  | +1  | +1     | -1     | -1     | +1      |\n",
    "| 8           | -1  | -1  | -1  | +1     | +1     | +1     | -1      |\n",
    "\n",
    "The cost of a $\\dfrac{1}{p}$ fractional factorial design with 2 levels for each of the $k$ factors is $2^{k-p}$ function samples. (Recall the cost of a full k-factorial was $2^{k}$).)\n",
    "\n",
    "The cost of a fractional factorial is lower. The tradeoff is that information about higher-order interaction terms is lost. In practice, this means that the model is forced to convolute interaction terms, so that you only know that interaction term 1 and/or interaction term 2 caused an effect."
   ]
  },
  {
   "cell_type": "markdown",
   "metadata": {},
   "source": [
    "## Composite Design\n",
    "\n",
    "Composite design builds on the full factorial design by adding three additional levels. Rather than just $-1$ and $+1$, composite design also includes $-2, 0, +2$.\n",
    "\n",
    "Thinking about a three-dimensional factorial design, the factorial design sample points looks like a cube in parameter space. Composite design makes a \"star\" design.\n",
    "\n",
    "The additional sample points consist of the new lower $-2$ and upper $+2$ levels for each factor, while keeping all other factors constant at the 0 level. It also includes a center point, at which all factors have a factor level of 0.\n",
    "\n",
    "For a two-parameter experimental design, this looks like: \n",
    "\n",
    "| Experimental Design Step | Factor 1 | Factor 2 |\n",
    "|--------------------------|----------|----------|\n",
    "| Full factorial           | +1       | +1       |\n",
    "| Full factorial           | +1       | -1       |\n",
    "| Full factorial           | -1       | +1       |\n",
    "| Full factorial           | -1       | -1       |\n",
    "| Composite                | 0        | 0        |\n",
    "| Composite                | +2       | 0        |\n",
    "| Composite                | -2       | 0        |\n",
    "| Composite                | 0        | +2       |\n",
    "| Composite                | 0        | -2       |\n",
    "\n",
    "The cost of a composite design (5 levels) for each of $k$ factors is $2^{k+1} + 1$ samples of the function $f(X)$."
   ]
  },
  {
   "cell_type": "markdown",
   "metadata": {},
   "source": [
    "## Other Alternatives"
   ]
  },
  {
   "cell_type": "markdown",
   "metadata": {},
   "source": [
    "### Box Behnkin Designs\n",
    "\n",
    "Box-Behnkin designs are intended to minimize the number of function evaluations required to construct a response surface (polynomial surrogate model). The design consists of three levels, rather than the five required by composite designs.\n",
    "\n",
    "For more information see Box Behnken (1960)."
   ]
  },
  {
   "cell_type": "markdown",
   "metadata": {},
   "source": [
    "### Plackett Burman Designs\n",
    "\n",
    "Experimental designs requiring a very minimal number of sample points."
   ]
  },
  {
   "cell_type": "markdown",
   "metadata": {},
   "source": [
    "## Sequential Assembly\n",
    "\n",
    "We already showed how we can perform a composite experimental design in two steps: starting with a factorial, assessing the results, and continuing with further samples to complete a composite design.\n",
    "\n",
    "This idea can be extended further, to the factorial design."
   ]
  },
  {
   "cell_type": "markdown",
   "metadata": {},
   "source": [
    "### The Idea\n",
    "\n",
    "We use the fact that any fractional (or full) factorial design at level $k$ requiring $2^k$ samples can be broken into two $k+1$ fractional factorial designs consisting of $2^{k-1}$ samples each. These fractional factorial designs can themselves yield useful information about main and interaction effects, allowing analysis to take place before the $k$ fractional factorial design is completed.\n",
    "\n",
    "Thus, a full factorial is broken into two half factorial designs; the half factorial designs are broken into two quarter-factorial designs; and so on, until a screening design scheme is reached."
   ]
  },
  {
   "cell_type": "markdown",
   "metadata": {},
   "source": [
    "### Why Sequential Assembly\n",
    "\n",
    "There are two motivations to use sequential assembly to create the response surface.\n",
    "\n",
    "**The first is to encourage exploration of more variables.** Remember that we have to keep the total number of samples of $f(X)$ reasonable, while also trying to maximize the nmber of input variables we explore so as to pick the best ones. If an entire composite experimental design is being carried out in one go, adding an additional input variable can greatly increase the amount of data needed.\n",
    "\n",
    "This leads to *a priori* pruning of input variables considered important - but these should be included so the model itself can reveal which factors are important.\n",
    "\n",
    "Sequential assembly allows for exploring more factors at the initial stages of the experimental design, and pruning the list of unimportant variables as we go.\n",
    "\n",
    "**The second is to stop early.** By analyzing the results as they come in, during intermediate steps of the experiment design, we aren't \"flying blind\" and can make adjustments to the design as we go. "
   ]
  },
  {
   "cell_type": "markdown",
   "metadata": {},
   "source": [
    "### Illustrative Example\n",
    "\n",
    "Let's illustrate screening designs with a simple scenario.\n",
    "\n",
    "Suppose you are creating a surrogate model $g(X)$ for a real function $f(X)$. Further suppose your experiment design specifies the form of $g(X)$ as a complicated third-order, five-dimensional polynomial, and prescribes 256 experiments to gather data to fit the coefficients of $g(X)$. After slaving away for two months in the lab, you finally have all 256 data points, and sit down to analyze the response surface.\n",
    "\n",
    "You find out that four of the variables have linear relations, meaning the coefficients of their quadratic and cubic terms were not necessary. Further, you find out that one of the variables had no effect and should not have been included in the factorial design to begin with. The results wasted a lot of time in the lab and resources running experiments. What could you do differently, to raise warnings earlier?\n",
    "\n",
    "Start the experiment design with a Plackett-Burman screening design and use a large number of possibly important factors. This aliases main and interaction effects, so we would have to take the results with a grain of salt, but the tradeoff is the number of data points is equal to the number of factors (very cheap).\n",
    "\n",
    "From there, we would create a computational and uncertainty budget to decide how many factors to explore and how well they must be characterized (which also depends on the quality of the measured data). "
   ]
  },
  {
   "cell_type": "markdown",
   "metadata": {},
   "source": [
    "### The Recipe\n",
    "\n",
    "Sequential design specifies the recipe we should use:\n",
    "\n",
    "Stage 1:\n",
    "* The very first run should be a Plackett-Burman screening design. This type of screening design is very cheap (number of samples equals number of factors) and will yield estimates of main effects for each factor (convoluted with variable interaction effects).\n",
    "* Examine the results of the Plackett-Burman screening design. Screen out any input variables deemed unimportant.\n",
    "\n",
    "Stage 2:\n",
    "* Run the most highly-fractionated factorial design; the exact fraction will depend on the number of input variables. The more input variables, the more highly fractionated the full design can be.\n",
    "* Examine the results of the first highly-fractionated factorial design. Determine if any main or interaction effects can be ignored or are particularly important. Perform an error analysis to determine how \n",
    "\n",
    "(etc...)\n",
    "\n",
    "Stage N-1:\n",
    "* Run the full factorial design on all the factors that have survived so far\n",
    "* Analyze the full factorial results to construct "
   ]
  },
  {
   "cell_type": "markdown",
   "metadata": {},
   "source": [
    "## References"
   ]
  },
  {
   "cell_type": "markdown",
   "metadata": {},
   "source": [
    "### Links to Papers"
   ]
  }
 ],
 "metadata": {
  "kernelspec": {
   "display_name": "Python 3",
   "language": "python",
   "name": "python3"
  },
  "language_info": {
   "codemirror_mode": {
    "name": "ipython",
    "version": 3
   },
   "file_extension": ".py",
   "mimetype": "text/x-python",
   "name": "python",
   "nbconvert_exporter": "python",
   "pygments_lexer": "ipython3",
   "version": "3.6.3"
  }
 },
 "nbformat": 4,
 "nbformat_minor": 2
}
