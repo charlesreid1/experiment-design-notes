{
 "cells": [
  {
   "cell_type": "markdown",
   "metadata": {},
   "source": [
    "### Review/Fundamentals Topics\n",
    "\n",
    "Linear Models\n",
    "* Linear Regression (LM_1_LinearRegression)\n",
    "* Inference with Linear Models (LM_2_Inference)\n",
    "* Goodness of Fit and Residual Tests (LM_3_GoodFit)"
   ]
  },
  {
   "cell_type": "markdown",
   "metadata": {},
   "source": [
    "Multiple Linear Regression\n",
    "* Models\n",
    "* Least squares\n",
    "* ANOVA\n",
    "* Weighted LS\n",
    "* Multicollinearity\n",
    "* Testing Hypotheses\n",
    "\n",
    "Polynomial Regression\n",
    "* One indep var\n",
    "* Two indep var\n",
    "\n",
    "ANOVA\n",
    "* Single Factor ANOVA\n",
    "* Analysis of factor\n",
    "* Implementation\n",
    "* Other Topics\n",
    "\n",
    "Multifactor ANOVA\n",
    "* Two Factor ANOVA\n",
    "* Equal or Unequal Sample Sizes\n",
    "* ANCOVA"
   ]
  },
  {
   "cell_type": "markdown",
   "metadata": {},
   "source": [
    "### Experiment Design Topics\n",
    "\n",
    "Experiment Design\n",
    "* Introduction to Experiment Design\n",
    "\n",
    "Response Surface Methodology\n",
    "* Linear vs Polynomial Models\n",
    "* Screening Designs\n",
    "* Factorial Designs\n",
    "* Sequential Assembly\n",
    "\n",
    "Monte Carlo Methodology"
   ]
  },
  {
   "cell_type": "code",
   "execution_count": null,
   "metadata": {},
   "outputs": [],
   "source": []
  }
 ],
 "metadata": {
  "kernelspec": {
   "display_name": "Python 3",
   "language": "python",
   "name": "python3"
  },
  "language_info": {
   "codemirror_mode": {
    "name": "ipython",
    "version": 3
   },
   "file_extension": ".py",
   "mimetype": "text/x-python",
   "name": "python",
   "nbconvert_exporter": "python",
   "pygments_lexer": "ipython3",
   "version": "3.6.3"
  }
 },
 "nbformat": 4,
 "nbformat_minor": 2
}
