{
 "cells": [
  {
   "cell_type": "markdown",
   "metadata": {},
   "source": [
    "# Experiment Design Lecture 3: Monte Carlo for Experimental Design\n",
    "\n",
    "In this notebook, we'll cover some notes on the use of Monte Carlo sampling in experimental design, both in the construction and the use of response surfaces.\n",
    "\n",
    "We won't cover the use of Monte Carlo for constructing response surfaces just yet (we need to cover response surfaces first). But we will cover how to implement Monte Carlo sampling, and how to visualize the resulting system responses."
   ]
  },
  {
   "cell_type": "markdown",
   "metadata": {},
   "source": [
    "## Overview\n",
    "\n",
    "Monte Carlo sampling is essentially a brute-force technique in which random samples are taken until confidence that the entire space has been sampled is satisfactory.\n",
    "\n",
    "Random numbers are used to create sampling points in each direction.\n",
    "\n",
    "Think of Monte Carlo ray-tracing: you send out a whole bunch of rays, each in random directions, and from the result you determine the radiative flux. Mathematically, you're performing an integration by randomly sampling the function you want to integrate, then adding up all of the random samples: \n",
    "\n",
    "$$\n",
    "\\int f(x) dx \\approx \\frac{1}{N} \\sum_{i} f( x_i ) \n",
    "$$"
   ]
  },
  {
   "cell_type": "markdown",
   "metadata": {},
   "source": [
    "## Why Monte Carlo\n",
    "\n",
    "So far we've been talking about expensive computer simulations and experimental systems, and trying to construct response surfaces to save us the time evaluating those functions. In this sense, Monte Carlo seems a bit out of place.\n",
    "\n",
    "However, Monte Carlo has several uses in the context of experimental design. It is useful for systems with certain kinds of data, for which it can help construct response surfaces, and an important tool in using the constructed response surface."
   ]
  },
  {
   "cell_type": "markdown",
   "metadata": {},
   "source": [
    "### Monte Carlo for Response Surface Construction\n",
    "\n",
    "So far we have talked about expensive experiments or simulations. When we say expensive, we've been implying they are expensive in resources - money, computational power, CPU cycles. \n",
    "\n",
    "But we can also do things that are computationally very simple, but that cost us time. For exmaple, consider an industrial plant with a central control system and a large number of sensors. We don't want the central control system to put everybody's instructions on hold because it hasn't gotten every temperature from every sensor. to break dependence on lag time, we might construct a response surface model for the sensor's value, which can be verified/updated using data as it is available.\n",
    "\n",
    "Often these types of systems will also have a plethora of data available in data warehouses, which can also be utilized as Monte Carlo data (with care)."
   ]
  },
  {
   "cell_type": "markdown",
   "metadata": {},
   "source": [
    "### Monte Carlo for Response Surface Evaluation\n",
    "\n",
    "Once we have constructed the response surface to represent our expensive system, we may need to perform an analysis that involves integration of the response surface (for example, to estimate the mean response over a range of input variable values)."
   ]
  },
  {
   "cell_type": "markdown",
   "metadata": {},
   "source": [
    "# Normalizing Variables for Monte Carlo\n",
    "\n",
    "Before we go through an example of Monte Carlo sampling, we'll talk about how to normalize the parameter space of the models to make regression easier.\n",
    "\n",
    "## Transforming Variables\n",
    "\n",
    "For a distribution that is a function of $m$ variables $x_1, \\dots, x_m$:\n",
    "\n",
    "Each variable has its own range, $\\alpha_i \\leq x_i \\leq \\beta_i$\n",
    "\n",
    "This range must be converted to $[0,1]$ by normalizing $x_i$:\n",
    "\n",
    "$$\n",
    "\\hat{x}_i = \\frac{ x_i - \\alpha_i }{ \\beta_i - \\alpha_i }\n",
    "$$\n",
    "\n",
    "so that\n",
    "\n",
    "$$\n",
    "x_i \\in \\left[ 0, 1 \\right] \\forall i = 1 \\dots m\n",
    "$$"
   ]
  },
  {
   "cell_type": "code",
   "execution_count": 1,
   "metadata": {},
   "outputs": [],
   "source": [
    "import numpy as np\n",
    "import matplotlib.pyplot as plt\n",
    "import seaborn as sns\n",
    "from pprint import pprint"
   ]
  },
  {
   "cell_type": "code",
   "execution_count": 2,
   "metadata": {},
   "outputs": [],
   "source": [
    "def get_hat(x, log=False):\n",
    "    \"\"\"Given a non-normalized vector x\n",
    "    with N elements between a and b,\n",
    "    return a normalized vector xhat\n",
    "    with N elements between 0 and 1.\n",
    "    \"\"\"\n",
    "    a = x[0]\n",
    "    b = x[-1]\n",
    "    \n",
    "    if(log):\n",
    "        a = np.log10(a)\n",
    "        b = np.log10(b)\n",
    "        x = np.log10(x)\n",
    "    \n",
    "    xhat = (x-a)/(b-a)\n",
    "    return xhat\n",
    "\n",
    "def get_nohat(xhat, a, b):\n",
    "    \"\"\"Given a normalized vector xhat\n",
    "    with N elements between 0 and 1,\n",
    "    return a non-normalized vector x\n",
    "    with N elements between a and b.\n",
    "    \"\"\"\n",
    "    x = (b-a)*xhat + a\n",
    "    return x"
   ]
  },
  {
   "cell_type": "code",
   "execution_count": 3,
   "metadata": {},
   "outputs": [],
   "source": [
    "def func1():\n",
    "    a = -150\n",
    "    b = 750\n",
    "    N = 15\n",
    "    x = np.linspace(a,b,N)\n",
    "    \n",
    "    #xhat = (x - a)/(b - a)\n",
    "    xhat = get_hat(x)\n",
    "    \n",
    "    print(\"x:\")\n",
    "    print(x)\n",
    "    print(\"-\"*20)\n",
    "    print(\"xhat:\")\n",
    "    print(xhat)"
   ]
  },
  {
   "cell_type": "code",
   "execution_count": 4,
   "metadata": {},
   "outputs": [
    {
     "name": "stdout",
     "output_type": "stream",
     "text": [
      "x:\n",
      "[-150.          -85.71428571  -21.42857143   42.85714286  107.14285714\n",
      "  171.42857143  235.71428571  300.          364.28571429  428.57142857\n",
      "  492.85714286  557.14285714  621.42857143  685.71428571  750.        ]\n",
      "--------------------\n",
      "xhat:\n",
      "[ 0.          0.07142857  0.14285714  0.21428571  0.28571429  0.35714286\n",
      "  0.42857143  0.5         0.57142857  0.64285714  0.71428571  0.78571429\n",
      "  0.85714286  0.92857143  1.        ]\n"
     ]
    }
   ],
   "source": [
    "func1()"
   ]
  },
  {
   "cell_type": "markdown",
   "metadata": {},
   "source": [
    "### Log Scale\n",
    "\n",
    "If you're using a log scale, i.e. sampling logarithmically more at $\\alpha$ than $\\beta$:\n",
    "\n",
    "$$\n",
    "\\hat{x}_i = \\frac{ \\log{(x_i)} - \\log{(\\alpha_i)} }{ \\log{(\\beta_i)} - \\log{(\\alpha_i)} } \n",
    "$$"
   ]
  },
  {
   "cell_type": "code",
   "execution_count": 5,
   "metadata": {},
   "outputs": [],
   "source": [
    "def func2():\n",
    "    a = 10\n",
    "    b = 1000\n",
    "    N = 15\n",
    "    x = np.logspace(np.log10(a), np.log10(b), N)\n",
    "    \n",
    "    #xhat = (np.log10(x) - np.log10(a))/(np.log10(b) - np.log10(a))\n",
    "    xhat = get_hat(x, log=True)\n",
    "    \n",
    "    print(\"x (logarithmic):\")\n",
    "    pprint(x)\n",
    "    print(\"-\"*20)\n",
    "    print(\"xhat (linear):\")\n",
    "    pprint(xhat)"
   ]
  },
  {
   "cell_type": "code",
   "execution_count": 6,
   "metadata": {},
   "outputs": [
    {
     "name": "stdout",
     "output_type": "stream",
     "text": [
      "x (logarithmic):\n",
      "array([   10.        ,    13.89495494,    19.30697729,    26.82695795,\n",
      "          37.2759372 ,    51.79474679,    71.9685673 ,   100.        ,\n",
      "         138.94954944,   193.06977289,   268.26957953,   372.75937203,\n",
      "         517.94746792,   719.685673  ,  1000.        ])\n",
      "--------------------\n",
      "xhat (linear):\n",
      "array([ 0.        ,  0.07142857,  0.14285714,  0.21428571,  0.28571429,\n",
      "        0.35714286,  0.42857143,  0.5       ,  0.57142857,  0.64285714,\n",
      "        0.71428571,  0.78571429,  0.85714286,  0.92857143,  1.        ])\n"
     ]
    }
   ],
   "source": [
    "func2()"
   ]
  },
  {
   "cell_type": "markdown",
   "metadata": {},
   "source": [
    "## Selecting Samples\n",
    "\n",
    "In general a sample of uniform random numbers of dimensionality $d \\times n$, where $d$ is the input vector dimensionality and $n$ is the number of random Monte Carlo samples, is created between a lower and upper bound. (Note that depending on how we define parameter uncertainty we may want these to be normally distributed variables.)\n",
    "\n",
    "The system response function $f(x_i)$ is evaluated to obtain the system response quantity $y$.\n",
    "\n",
    "The random input vector and its corresponding output vector are saved."
   ]
  },
  {
   "cell_type": "markdown",
   "metadata": {},
   "source": [
    "# Examples\n",
    "\n",
    "We'll look at a few examples implementing MC (though we won't yet cover response surface applications). Two examples:\n",
    "* Utilizing MC to visualize a simple function response\n",
    "* Utilizing MC to visualize an expensive function response"
   ]
  },
  {
   "cell_type": "markdown",
   "metadata": {},
   "source": [
    "## Simple Function Response\n",
    "\n",
    "We will consider a two dimensional black box function and how we can utilize Monte Carlo to answer some of the following questions:\n",
    "\n",
    "* What does the \"true\" system response function $f(x_i)$ look like?\n",
    "* Is the response smooth enough to model with a polynomial?\n",
    "* What degree of polynomial would be appropriate for a response surface model?\n",
    "\n",
    "The black box system response function we'll consider is a function of two input variables:\n",
    "\n",
    "$$\n",
    "y = f(x_1,x_2) = \\cos \\left( \\sqrt{x_1}\\sqrt{x_2} \\right)\n",
    "$$\n",
    "\n",
    "over the domain $x_1 \\in [0,1], x_2 \\in [0,1]$."
   ]
  },
  {
   "cell_type": "markdown",
   "metadata": {},
   "source": [
    "### Visualizing Analytical Response"
   ]
  },
  {
   "cell_type": "code",
   "execution_count": 7,
   "metadata": {},
   "outputs": [],
   "source": [
    "def f(x1, x2):\n",
    "    return np.cos(np.sqrt(x1)*np.sqrt(x2))"
   ]
  },
  {
   "cell_type": "code",
   "execution_count": 40,
   "metadata": {},
   "outputs": [],
   "source": [
    "def plot_response_contourf():\n",
    "    \n",
    "    N = 20\n",
    "    x1 = np.linspace(0,1,N)\n",
    "    x2 = np.linspace(0,1,N)\n",
    "    \n",
    "    # For labeling/evaluating function\n",
    "    X1,X2 = np.meshgrid(x1,x2)\n",
    "    \n",
    "    # Contour plot of f(x,y)\n",
    "    fig = plt.figure(figsize=(6,4))\n",
    "    ax = fig.add_subplot(1,1,1)\n",
    "    c = ax.contourf(X1, X2, f(X1,X2), cmap='binary')\n",
    "    \n",
    "    ax.set_title('Analytical System Response Function')\n",
    "    ax.set_xlabel(r'$x_1$')\n",
    "    ax.set_ylabel(r'$x_2$')\n",
    "    ax.set_aspect('equal')\n",
    "    plt.colorbar(c)\n",
    "    plt.show()"
   ]
  },
  {
   "cell_type": "code",
   "execution_count": 41,
   "metadata": {},
   "outputs": [
    {
     "data": {
      "image/png": "[encoded data removed]",
      "text/plain": [
       "<matplotlib.figure.Figure at 0x10de23940>"
      ]
     },
     "metadata": {},
     "output_type": "display_data"
    }
   ],
   "source": [
    "plot_response_contourf()"
   ]
  },
  {
   "cell_type": "markdown",
   "metadata": {},
   "source": [
    "### Visualizing Monte Carlo Results\n",
    "\n",
    "Next we'll make a 3D scatterplot of 10,000 random Monte Carlo samples of $f(x_1, x_2)$, to illustrate how to get a sense of the sense of the response surface shape without an analytical expression."
   ]
  },
  {
   "cell_type": "code",
   "execution_count": 42,
   "metadata": {},
   "outputs": [],
   "source": [
    "import matplotlib.pyplot as plt\n",
    "from mpl_toolkits.mplot3d import Axes3D"
   ]
  },
  {
   "cell_type": "code",
   "execution_count": 43,
   "metadata": {},
   "outputs": [],
   "source": [
    "def sample_response(N = 10):\n",
    "    \"\"\"Generate N random MC samples of (x,y) space\"\"\"\n",
    "    # Sample space: x1 in [0,1], x2 in [0,1]\n",
    "    # (Otherwise, would need to do re-scaling before return)\n",
    "    # Generate N random (x,y) values between 0 and 1\n",
    "    return np.random.uniform(0, 1, size=(2,N))"
   ]
  },
  {
   "cell_type": "code",
   "execution_count": 44,
   "metadata": {},
   "outputs": [],
   "source": [
    "def plot_response_MCscatter():\n",
    "\n",
    "    # ----------------------\n",
    "    # Generate MC samples for scatter points\n",
    "    N = 10000\n",
    "    rv = sample_response(N)\n",
    "    xx1 = rv[0,:]\n",
    "    xx2 = rv[1,:]\n",
    "    yy = f(xx1,xx2)\n",
    "    \n",
    "    # ----------------------\n",
    "    # Generate analytical function for wireframe plot\n",
    "    N = 20\n",
    "    x1 = np.linspace(0,1,N)\n",
    "    x2 = np.linspace(0,1,N)\n",
    "    X1,X2 = np.meshgrid(x1,x2)\n",
    "\n",
    "    # ----------------------\n",
    "    # Plot the analytical and Monte Carlo results\n",
    "    fig = plt.figure(figsize=(8,6))\n",
    "    ax = fig.add_subplot(111, projection='3d')\n",
    "    \n",
    "    # Purple wireframe = analytical response surface\n",
    "    ax.plot_wireframe(X1, X2, f(X1, X2),\n",
    "                  alpha=0.3, \n",
    "                  color='purple',\n",
    "                  label=\"Analytical\")\n",
    "\n",
    "    # Blue scatterplot = MC samples\n",
    "    ax.scatter(xx1, xx2, yy, s=0.3,\n",
    "               label=\"MC\", linewidths=1)\n",
    "\n",
    "    ax.view_init(elev=50., azim=200)\n",
    "    ax.set_xlabel(r'$x_1$')\n",
    "    ax.set_ylabel(r'$x_2$')\n",
    "    ax.set_zlabel(r'$y$')\n",
    "    ax.legend()\n",
    "    ax.set_title(\"Monte Carlo Samples \\nPlus Analytical System Response\")\n",
    "\n",
    "    plt.show()"
   ]
  },
  {
   "cell_type": "code",
   "execution_count": 45,
   "metadata": {},
   "outputs": [
    {
     "data": {
      "image/png": "[encoded data removed]",
      "text/plain": [
       "<matplotlib.figure.Figure at 0x10de3ada0>"
      ]
     },
     "metadata": {},
     "output_type": "display_data"
    }
   ],
   "source": [
    "plot_response_MCscatter()"
   ]
  },
  {
   "cell_type": "markdown",
   "metadata": {},
   "source": [
    "## A More Complicated Function: Heat Transfer\n",
    "\n",
    "Now let's look at a more complicated function from a heat transfer application. As a reminder, $x$ and $y$ are parameters for the system response $f(x_1,x_2)$, and the function is being sampled with Monte Carlo. Here we will look at a system response $f(x_1, x_2)$ that is an integrated quantity (that is, evaluating $f(x_1, x_2)$ involves integrating a differential equation)."
   ]
  },
  {
   "cell_type": "markdown",
   "metadata": {},
   "source": [
    "### System Governing Equation\n",
    "\n",
    "(heat = energy transfer)\n",
    "\n",
    "Consider the energy balance over a system that has a single uniform temperature $T$ and is characterized by some time scale $t_0$. \n",
    "\n",
    "Now introduce normalized system temperature $\\theta = \\dfrac{T - T_0}{T_1 - T_0}$ and normalized time $\\tau = \\dfrac{t}{t_0}$. \n",
    "\n",
    "From an energy balance (via the First Law of Thermodynamics), we know:\n",
    "\n",
    "$$\n",
    "dE = dQ + dE \\\\\n",
    "\\dfrac{dE}{dt} = \\dot{Q} + \\dot{W}\n",
    "$$\n",
    "\n",
    "That is, the system temperature changes due to heat and work being added or removed from the system. If we consider a perfectly insulated container at a uniform initial temperature, there is no heat exchanged with the surroundings and the system does no work so the temperature stays constant.\n",
    "\n",
    "(Note: the system is closed with respect to mass flow, so use closed version of First Law.)\n",
    "\n",
    "Now suppose a heat exchanger is suddenly introduced at time $t = 0$. This heat exchanger allows the system to exchange energy with its surroundings (imagine a container of hot gas, with a thick insulated covering over a glass window. If the cover is suddenly removed so that the inside of the container can be observed, the system suddenly begins to lose energy to its surroundings.)\n",
    "\n",
    "Via Newton's Law of Cooling, the heat flux through the heat exchanger or glass window is given by:\n",
    "\n",
    "$$\n",
    "\\dot{Q} = - h A ( T_{system} - T_{ambient})\n",
    "$$\n",
    "\n",
    "where a negative $\\dot{Q}$ indicates heat leaves the system. (If the system temperature is higher than the ambient temperature, the system will lose heat and the system temperature will decrease.)\n",
    "\n",
    "If we consider an insulated container at uniform temperature, we can think about a physical analgoy to a sudden temperature sink being introduced.\n",
    "\n",
    "If we consider a vessel with a glass viewport, covered with a thick insulated flap, the vessel would normally be adiabatic and the viewport covered. However, if the flap suddenly opened to look into the viewport, a heat sink term that is modeled using the equation above (gradient-based transport) would apply to the non-insulated portions."
   ]
  },
  {
   "cell_type": "markdown",
   "metadata": {},
   "source": [
    "### Energy Equation\n",
    "\n",
    "into which a heat source or sink is introduced, the differential equation describing the temperature change is:\n",
    "\n",
    "$$\n",
    "\\dfrac{d \\theta}{dt} = \\beta \\theta\n",
    "$$\n",
    "\n",
    "where $\\beta$ is a heat transfer coefficient. For this simple differential equation we can still obtain an analytical solution for temperature after time $t$,\n",
    "\n",
    "$$\n",
    "\\ln \\left( \\dfrac{ \\theta(t) }{ \\theta(0) } \\right) = - \\beta\n",
    "$$\n",
    "\n",
    "or,\n",
    "\n",
    "$$\n",
    "\\theta(t) = \\theta_0 \\exp \\left( - \\beta t \\right)\n",
    "$$\n",
    "\n",
    "where $\\theta_0 = \\theta(t=0)$. "
   ]
  },
  {
   "cell_type": "markdown",
   "metadata": {},
   "source": [
    "### Numerical Approximation of System Response\n",
    "\n",
    "However, in general we are interested in evaluating functions too complex to integrate analytically, so we utilize an approximation technique that only involves evaluating the function numerically to integrate it:\n",
    "\n",
    "$$\n",
    "\\dfrac{d \\theta}{dt} \\approx \\dfrac{\\Delta \\theta}{\\Delta t} = \\dfrac{\\theta_{i+1} - \\theta_i}{\\Delta t}\n",
    "$$\n",
    "\n",
    "Now if we set that equal to the right side of $\\frac{d \\theta}{d t} = \\beta \\theta$, and write it for every single time step, and sum them all up over the $N_t$ timesteps over the entire time period $t_0$ to $t_f$, we get an approximation of the exact integral of the RHS $\\beta \\theta$:\n",
    "\n",
    "$$\n",
    "\\theta_f = \\theta_0 + \\sum_{j=1}^{N_t} \\beta_j \\theta_j \\Delta t_j\n",
    "$$\n",
    "\n",
    "where $N_t = \\dfrac{t}{\\Delta t}$."
   ]
  },
  {
   "cell_type": "markdown",
   "metadata": {},
   "source": [
    "### Summary: Temperature Equations\n",
    "\n",
    "To summarize: the analytical expression we use for the temperature as a function of time comes from the integrated form of the differential energy balance; the numerical approximation comes from applying a simple backward difference scheme to the time derivative in the original differential equation. The former is more accurate but not always available, so we're mainly interested in the latter for its robustness.\n",
    "\n",
    "Analytical:\n",
    "\n",
    "$$\n",
    "\\theta(t) = \\theta_0 \\exp \\left( - \\beta t \\right)\n",
    "$$\n",
    "\n",
    "Numerical:\n",
    "\n",
    "$$\n",
    "\\theta(t) \\approx \\theta_0 + \\sum_{j=1}^{N_t} \\beta_j \\theta_j \\Delta t_j\n",
    "$$"
   ]
  },
  {
   "cell_type": "markdown",
   "metadata": {},
   "source": [
    "### Heat Transfer Coefficient Parameters\n",
    "\n",
    "We still need to relate the energy balance to the input parameters and the system response function $f(x_1, x_2)$.\n",
    "\n",
    "The system response we are interested in is the integrated system temperature after some fixed time window (arbitrarily say, $t=2$):\n",
    "\n",
    "$$\n",
    "f(x_1, x_2) = \\theta(t) = \\theta_0 \\exp \\left( - \\beta t \\right)\n",
    "$$\n",
    "\n",
    "The two input parameters to the model:\n",
    "* Initial temperature of the reactor $\\theta(0)$\n",
    "* Heat transfer coefficient $\\beta$\n",
    "\n",
    "The input parameter $x_1$ can be used as the value of $\\theta(0)$:\n",
    "\n",
    "$$\n",
    "\\theta_0 = x_1\n",
    "$$\n",
    "\n",
    "$x_1 = 0$ corresponds to an initial temperature of $T_0$, while $x_1 = 1$ corresponds to an initial temperature of $T_1$.\n",
    "\n",
    "The input parameter $x_2$ can be used to control the heat transfer coefficient. Heat transfer coefficient correlations often take the form of rational functions, so we use the following rational function for $\\beta(x_2)$:\n",
    "\n",
    "$$\n",
    "\\beta = \\dfrac{x_2^2}{1 + x_2^2}\n",
    "$$\n",
    "\n",
    "The final right-hand side for the analytical version is therefore:\n",
    "\n",
    "$$\n",
    "f(x_1, x_2) = \\theta(t) = x_1 \\exp \\left( - \\left( \\dfrac{ x_2^2 }{1 + x_2^2} \\right) t \\right)\n",
    "$$\n",
    "\n",
    "The right-hand side for the numerical version is:\n",
    "\n",
    "\n",
    "\n",
    "$$\n",
    "f(x_1, x_2) = \\theta(t) = \\theta_0 + \\int_{0}^{t} \\beta t' dt' \n",
    "$$\n",
    "\n",
    "Approximated via:\n",
    "\n",
    "$$\n",
    "f(x_1, x_2) \\approx x_1 + \\left( \\dfrac{ x_2^2 }{1 + x_2^2} \\right) \\Delta t \\sum_{j=1}^{N_t} \\theta_j\n",
    "$$\n",
    "\n",
    "or, replacing the numerical integral approximation with a call to the `odeint` function from scipy, this becomes:\n",
    "\n",
    "$$\n",
    "f(x_1, x_2) \\approx x_1 + \\mbox{odeint}\\left( \\mbox{RHS}, \\theta_0, t, \\dots \\right)\n",
    "$$\n"
   ]
  },
  {
   "cell_type": "code",
   "execution_count": 95,
   "metadata": {},
   "outputs": [],
   "source": [
    "from scipy.integrate import odeint"
   ]
  },
  {
   "cell_type": "code",
   "execution_count": 137,
   "metadata": {},
   "outputs": [],
   "source": [
    "def beta(x):\n",
    "    return (x**2)/(1+x**2)\n",
    "\n",
    "def rhs(theta, t, x1, x2):\n",
    "    \"\"\"Computes the RHS of derivative of theta at t\"\"\"\n",
    "    return -beta(x2)*theta\n",
    "\n",
    "def solve_ht_rhs(x1,x2):\n",
    "    y0 = x1\n",
    "    b = beta(x2)\n",
    "    tf = 2\n",
    "    Nt = 1000\n",
    "    t = np.linspace(0, tf, Nt)\n",
    "    soln = odeint(rhs, y0, t, args=(x1,x2))\n",
    "    return t, soln\n",
    "\n",
    "def eval_ht_rhs(x1,x2):\n",
    "    tf = 2\n",
    "    Nt = 1000\n",
    "    t = np.linspace(0, tf, Nt)\n",
    "    return t, x1*np.exp(-beta(x2)*t)"
   ]
  },
  {
   "cell_type": "code",
   "execution_count": 150,
   "metadata": {
    "scrolled": true
   },
   "outputs": [
    {
     "data": {
      "image/png": "[encoded data removed]",
      "text/plain": [
       "<matplotlib.figure.Figure at 0x10e663438>"
      ]
     },
     "metadata": {},
     "output_type": "display_data"
    }
   ],
   "source": [
    "t, theta = solve_ht_rhs(1,1)\n",
    "t, theta_e = eval_ht_rhs(1,1)\n",
    "\n",
    "fig, ax = plt.subplots(1,1,figsize=(5,3))\n",
    "\n",
    "ax.plot(t, theta, '-')\n",
    "ax.plot(t, theta_e, '-')\n",
    "\n",
    "ax.set_xlabel(r'$t$')\n",
    "ax.set_ylabel(r'$\\theta$')\n",
    "ax.set_title(\"Non-Dimensional Temperature vs. Time\")\n",
    "plt.show()"
   ]
  },
  {
   "cell_type": "markdown",
   "metadata": {},
   "source": [
    "The numerical and analytical outcomes of the integrated time-temperature profile overlap nearly exactly. \n",
    "\n",
    "*However*, it is important to note that this is still not quite to the $f(x_1, x_2)$ function we really want. That function $f$ should not return the entire time-temperature history of the system, but rather should only return the final time-temperature state of the reactor."
   ]
  },
  {
   "cell_type": "code",
   "execution_count": 206,
   "metadata": {},
   "outputs": [],
   "source": [
    "def beta(x):\n",
    "    return (x**2)/(1+x**2)\n",
    "\n",
    "def rhs(theta, t, x1, x2):\n",
    "    \"\"\"Computes the RHS of derivative of theta at t\"\"\"\n",
    "    return -beta(x2)*theta\n",
    "\n",
    "def f_ht_solve(x1, x2):\n",
    "    \"\"\"System response function for \n",
    "    single pair of input values.\n",
    "    \n",
    "    Returns integrated non-dim temperature (theta) \n",
    "    after 2 time units.\n",
    "    \n",
    "    Called by f_ht_solve_grid().\n",
    "    \"\"\"\n",
    "    tf = 2\n",
    "    Nt = 1000\n",
    "    t = np.linspace(0, tf, Nt)\n",
    "    \n",
    "    y0 = x1\n",
    "    b = beta(x2)\n",
    "            \n",
    "    solution = odeint(rhs, y0, t, args=(x1, x2))\n",
    "    solution = np.squeeze(solution)[-1]             \n",
    "    return solution\n",
    "    \n",
    "def f_ht_solve_grid(x1s,x2s):\n",
    "    \"\"\"System response function for \n",
    "    input vectors x1, x2 coming in from\n",
    "    a meshgrid function call.\n",
    "    \n",
    "    Returns values of f(x1,x2) on the \n",
    "    same meshgrid.\n",
    "    \"\"\"\n",
    "    # Create container for solutions,\n",
    "    # same size as inputl\n",
    "    solutions = np.zeros(np.shape(x1s))\n",
    "    for i in range(np.shape(x1s)[0]):\n",
    "        for j in range(np.shape(x1s)[1]):\n",
    "            \n",
    "            x1 = x1s[i][j]\n",
    "            x2 = x2s[i][j]\n",
    "            \n",
    "            solutions[i][j] = f_ht_solve(x1,x2)\n",
    "    \n",
    "    return solutions\n",
    "\n",
    "def f_ht_eval(x1,x2):\n",
    "    \"\"\"Returns analytical system response function\n",
    "    for heat transfer system (non-dimensionalized\n",
    "    temperature theta after t = 2 time units).\n",
    "    \"\"\"\n",
    "    tf = 2\n",
    "    Nt = 1000\n",
    "    t = np.linspace(0, tf, Nt)\n",
    "    y = x1*np.exp(-beta(x2)*t)\n",
    "    return y[-1]"
   ]
  },
  {
   "cell_type": "markdown",
   "metadata": {},
   "source": [
    "Now that we have defined the right hand side $f(x_1, x_2)$, we can test out how it is supposed to work. We should be able to pass input parameters $x_1, x_2$ in, and get a single value out - the integrated, non-dimensional temperature $\\theta(t)$ after $t = 2$ time units."
   ]
  },
  {
   "cell_type": "code",
   "execution_count": 207,
   "metadata": {},
   "outputs": [
    {
     "name": "stdout",
     "output_type": "stream",
     "text": [
      "These should both be ~0.35 (see graph above)\n",
      "and should be approximately equal:\n",
      "0.367879445848\n",
      "0.367879441171\n"
     ]
    }
   ],
   "source": [
    "print(\"These should both be ~0.35 (see graph above)\")\n",
    "print(\"and should be approximately equal:\")\n",
    "print(f_ht_solve(1,1))\n",
    "print(f_ht_eval(1,1))"
   ]
  },
  {
   "cell_type": "code",
   "execution_count": null,
   "metadata": {},
   "outputs": [],
   "source": []
  },
  {
   "cell_type": "code",
   "execution_count": null,
   "metadata": {},
   "outputs": [],
   "source": []
  },
  {
   "cell_type": "code",
   "execution_count": null,
   "metadata": {},
   "outputs": [],
   "source": []
  },
  {
   "cell_type": "code",
   "execution_count": null,
   "metadata": {},
   "outputs": [],
   "source": []
  },
  {
   "cell_type": "markdown",
   "metadata": {},
   "source": [
    "## Computing Response Surface\n",
    "\n",
    "### A Note on Visualization\n",
    "\n",
    "### A Note on Coefficient and Variable Order\n",
    "\n",
    "### Polynomial Powers Matrix\n",
    "\n",
    "### Quadratic Surface, 6 Dimensions\n",
    "\n",
    "### Quadratic Surface, 2 Dimensions\n",
    "\n",
    "### Cubic Surface, 6 Dimensions\n",
    "\n",
    "### Quartic Response Surface"
   ]
  },
  {
   "cell_type": "markdown",
   "metadata": {},
   "source": [
    "# References"
   ]
  },
  {
   "cell_type": "code",
   "execution_count": null,
   "metadata": {},
   "outputs": [],
   "source": []
  }
 ],
 "metadata": {
  "kernelspec": {
   "display_name": "Python 3",
   "language": "python",
   "name": "python3"
  },
  "language_info": {
   "codemirror_mode": {
    "name": "ipython",
    "version": 3
   },
   "file_extension": ".py",
   "mimetype": "text/x-python",
   "name": "python",
   "nbconvert_exporter": "python",
   "pygments_lexer": "ipython3",
   "version": "3.6.3"
  }
 },
 "nbformat": 4,
 "nbformat_minor": 2
}
